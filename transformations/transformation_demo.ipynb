{
 "cells": [
  {
   "cell_type": "markdown",
   "id": "3500df94-43ec-4b0e-b31b-6f5890e49665",
   "metadata": {},
   "source": [
    "### Import required packages and Create spark session with delta "
   ]
  },
  {
   "cell_type": "code",
   "execution_count": 92,
   "id": "0f9a1b6c-2eb9-4936-b772-e72cef502c2f",
   "metadata": {},
   "outputs": [],
   "source": [
    "from delta.tables import *\n",
    "import pyspark.sql.functions as F\n",
    "import pyspark\n",
    "import os\n",
    "from delta import configure_spark_with_delta_pip\n",
    "from pyspark.sql.types import IntegerType"
   ]
  },
  {
   "cell_type": "code",
   "execution_count": 4,
   "id": "03f4d85c-e19a-47be-a502-d194d3f3f490",
   "metadata": {},
   "outputs": [],
   "source": [
    "builder = pyspark.sql.SparkSession.builder.appName(\"MyApp\") \\\n",
    "    .config(\"spark.sql.extensions\", \"io.delta.sql.DeltaSparkSessionExtension\") \\\n",
    "    .config(\"spark.sql.catalog.spark_catalog\", \"org.apache.spark.sql.delta.catalog.DeltaCatalog\") \\\n",
    "    .enableHiveSupport()\n",
    "spark = configure_spark_with_delta_pip(builder).getOrCreate()"
   ]
  },
  {
   "cell_type": "code",
   "execution_count": 5,
   "id": "5315b9e4-152e-40a8-8ff6-c7d2e512ce62",
   "metadata": {},
   "outputs": [
    {
     "data": {
      "text/html": [
       "\n",
       "            <div>\n",
       "                <p><b>SparkSession - hive</b></p>\n",
       "                \n",
       "        <div>\n",
       "            <p><b>SparkContext</b></p>\n",
       "\n",
       "            <p><a href=\"http://host.docker.internal:4040\">Spark UI</a></p>\n",
       "\n",
       "            <dl>\n",
       "              <dt>Version</dt>\n",
       "                <dd><code>v4.0.0</code></dd>\n",
       "              <dt>Master</dt>\n",
       "                <dd><code>local[*]</code></dd>\n",
       "              <dt>AppName</dt>\n",
       "                <dd><code>MyApp</code></dd>\n",
       "            </dl>\n",
       "        </div>\n",
       "        \n",
       "            </div>\n",
       "        "
      ],
      "text/plain": [
       "<pyspark.sql.session.SparkSession at 0x1ade91efbf0>"
      ]
     },
     "execution_count": 5,
     "metadata": {},
     "output_type": "execute_result"
    }
   ],
   "source": [
    "spark"
   ]
  },
  {
   "cell_type": "markdown",
   "id": "42c4878a-ef30-497e-af16-a8e6a50be856",
   "metadata": {},
   "source": [
    "### Prepare a dictionary with file name as key and table name as value"
   ]
  },
  {
   "cell_type": "code",
   "execution_count": 21,
   "id": "d5f8ef47-bb4c-4183-aba3-34b201b9a080",
   "metadata": {},
   "outputs": [],
   "source": [
    "path = \"C://Users//mmoha//Documents//LinkedIn//\"\n",
    "file_dict = {}\n",
    "for (root, dirs, file) in os.walk(path):\n",
    "    for f in file:\n",
    "        if '.csv' in f:\n",
    "           file_dict[f] = f[0:-4]+\"_table\""
   ]
  },
  {
   "cell_type": "code",
   "execution_count": 22,
   "id": "c0e919eb-322c-4797-8c2c-ba7ff225c8b2",
   "metadata": {},
   "outputs": [
    {
     "data": {
      "text/plain": [
       "{'appearances.csv': 'appearances_table',\n",
       " 'clubs.csv': 'clubs_table',\n",
       " 'club_games.csv': 'club_games_table',\n",
       " 'competitions.csv': 'competitions_table',\n",
       " 'games.csv': 'games_table',\n",
       " 'game_events.csv': 'game_events_table',\n",
       " 'game_lineups.csv': 'game_lineups_table',\n",
       " 'players.csv': 'players_table',\n",
       " 'player_valuations.csv': 'player_valuations_table',\n",
       " 'transfers.csv': 'transfers_table'}"
      ]
     },
     "execution_count": 22,
     "metadata": {},
     "output_type": "execute_result"
    }
   ],
   "source": [
    "file_dict"
   ]
  },
  {
   "cell_type": "markdown",
   "id": "6a053ca5-b847-48fd-8b77-597a96f1968e",
   "metadata": {},
   "source": [
    "### Create tables"
   ]
  },
  {
   "cell_type": "code",
   "execution_count": 23,
   "id": "e1f64353-35fb-4e4d-843c-eb555b464388",
   "metadata": {},
   "outputs": [
    {
     "name": "stdout",
     "output_type": "stream",
     "text": [
      "appearances.csv\n",
      "clubs.csv\n",
      "club_games.csv\n",
      "competitions.csv\n",
      "games.csv\n",
      "game_events.csv\n",
      "game_lineups.csv\n",
      "players.csv\n",
      "player_valuations.csv\n",
      "transfers.csv\n"
     ]
    }
   ],
   "source": [
    "for i in file_dict:\n",
    "    print(i)\n",
    "    df = spark.read.format(\"csv\").option(\"inferSchema\",\"true\").option(\"header\", \"true\").load(f\"{path}{i}\")\n",
    "    df.write.format(\"delta\").mode(\"overwrite\").saveAsTable(file_dict[i])"
   ]
  },
  {
   "cell_type": "markdown",
   "id": "ec0fbc26-e769-4bc8-9801-cd88049feba1",
   "metadata": {},
   "source": [
    "### Read players_table and analyze the data"
   ]
  },
  {
   "cell_type": "code",
   "execution_count": 38,
   "id": "4cdfe1ba-2768-409f-adbc-64145038aae4",
   "metadata": {},
   "outputs": [],
   "source": [
    "players_df = spark.read.table(\"players_table\")"
   ]
  },
  {
   "cell_type": "code",
   "execution_count": 39,
   "id": "4198c3c6-f71a-48cb-b732-8f33a90852fc",
   "metadata": {},
   "outputs": [
    {
     "data": {
      "text/plain": [
       "DataFrame[summary: string, player_id: string, first_name: string, last_name: string, name: string, last_season: string, current_club_id: string, player_code: string, country_of_birth: string, city_of_birth: string, country_of_citizenship: string, sub_position: string, position: string, foot: string, height_in_cm: string, agent_name: string, image_url: string, url: string, current_club_domestic_competition_id: string, current_club_name: string, market_value_in_eur: string, highest_market_value_in_eur: string]"
      ]
     },
     "execution_count": 39,
     "metadata": {},
     "output_type": "execute_result"
    }
   ],
   "source": [
    "players_df.describe()"
   ]
  },
  {
   "cell_type": "code",
   "execution_count": 40,
   "id": "47632156-d827-40e1-a162-07a4f7b6e0b6",
   "metadata": {},
   "outputs": [
    {
     "data": {
      "text/plain": [
       "32601"
      ]
     },
     "execution_count": 40,
     "metadata": {},
     "output_type": "execute_result"
    }
   ],
   "source": [
    "players_df.count()"
   ]
  },
  {
   "cell_type": "markdown",
   "id": "6b995d4b-4ed7-4749-80c9-6667cfdb0422",
   "metadata": {},
   "source": [
    "### Read player_valuations_table and analyze the data"
   ]
  },
  {
   "cell_type": "code",
   "execution_count": 41,
   "id": "d2f758ec-6c9f-4a13-83ec-74c35812bde3",
   "metadata": {},
   "outputs": [],
   "source": [
    "player_valuations_df = spark.read.table(\"player_valuations_table\")"
   ]
  },
  {
   "cell_type": "code",
   "execution_count": 42,
   "id": "50ca8e0b-64de-4972-b649-cde047f280cd",
   "metadata": {},
   "outputs": [
    {
     "data": {
      "text/plain": [
       "DataFrame[summary: string, player_id: string, market_value_in_eur: string, current_club_id: string, player_club_domestic_competition_id: string]"
      ]
     },
     "execution_count": 42,
     "metadata": {},
     "output_type": "execute_result"
    }
   ],
   "source": [
    "player_valuations_df.describe()"
   ]
  },
  {
   "cell_type": "code",
   "execution_count": 43,
   "id": "35f354b1-c790-48b7-9d9b-8104ac1d109d",
   "metadata": {},
   "outputs": [
    {
     "data": {
      "text/plain": [
       "496606"
      ]
     },
     "execution_count": 43,
     "metadata": {},
     "output_type": "execute_result"
    }
   ],
   "source": [
    "player_valuations_df.count()"
   ]
  },
  {
   "cell_type": "markdown",
   "id": "3ff7ccc1-6b59-41ba-b985-4754f108d3c8",
   "metadata": {},
   "source": [
    "### Read clubs_table and analyze the data"
   ]
  },
  {
   "cell_type": "code",
   "execution_count": 44,
   "id": "d8639163-4149-41bd-9f3a-28b9e4302bdf",
   "metadata": {},
   "outputs": [],
   "source": [
    "clubs_df = spark.read.table(\"clubs_table\")"
   ]
  },
  {
   "cell_type": "code",
   "execution_count": 45,
   "id": "de888d82-63ee-4009-87e3-ed971c39597c",
   "metadata": {},
   "outputs": [
    {
     "data": {
      "text/plain": [
       "DataFrame[summary: string, club_id: string, club_code: string, name: string, domestic_competition_id: string, total_market_value: string, squad_size: string, average_age: string, foreigners_number: string, foreigners_percentage: string, national_team_players: string, stadium_name: string, stadium_seats: string, net_transfer_record: string, coach_name: string, last_season: string, filename: string, url: string]"
      ]
     },
     "execution_count": 45,
     "metadata": {},
     "output_type": "execute_result"
    }
   ],
   "source": [
    "clubs_df.describe()"
   ]
  },
  {
   "cell_type": "code",
   "execution_count": 46,
   "id": "fa4080f6-2bf0-4fdf-82aa-0d7d8a1b0352",
   "metadata": {},
   "outputs": [
    {
     "data": {
      "text/plain": [
       "439"
      ]
     },
     "execution_count": 46,
     "metadata": {},
     "output_type": "execute_result"
    }
   ],
   "source": [
    "clubs_df.count()"
   ]
  },
  {
   "cell_type": "markdown",
   "id": "49b5efd8-4028-4a68-b5d5-d9968053effb",
   "metadata": {},
   "source": [
    "### Read appearances_table and analyze the data"
   ]
  },
  {
   "cell_type": "code",
   "execution_count": 47,
   "id": "be737964-995a-403d-af39-de83728850a8",
   "metadata": {},
   "outputs": [],
   "source": [
    "appearances_df = spark.read.table(\"appearances_table\")"
   ]
  },
  {
   "cell_type": "code",
   "execution_count": 48,
   "id": "859dad6b-0c40-4814-965a-00a3a13be28b",
   "metadata": {},
   "outputs": [
    {
     "data": {
      "text/plain": [
       "DataFrame[summary: string, appearance_id: string, game_id: string, player_id: string, player_club_id: string, player_current_club_id: string, player_name: string, competition_id: string, yellow_cards: string, red_cards: string, goals: string, assists: string, minutes_played: string]"
      ]
     },
     "execution_count": 48,
     "metadata": {},
     "output_type": "execute_result"
    }
   ],
   "source": [
    "appearances_df.describe()"
   ]
  },
  {
   "cell_type": "code",
   "execution_count": 49,
   "id": "606535f4-8c68-4d06-8249-dcd6346f7cd9",
   "metadata": {},
   "outputs": [
    {
     "data": {
      "text/plain": [
       "1706806"
      ]
     },
     "execution_count": 49,
     "metadata": {},
     "output_type": "execute_result"
    }
   ],
   "source": [
    "appearances_df.count()"
   ]
  },
  {
   "cell_type": "markdown",
   "id": "97e90ecc-7c15-41e5-9eef-ad5980852e14",
   "metadata": {},
   "source": [
    "### Read club_games_table and analyze the data"
   ]
  },
  {
   "cell_type": "code",
   "execution_count": 50,
   "id": "dbda9b0e-391b-4dea-955c-ddd9eec1220c",
   "metadata": {},
   "outputs": [],
   "source": [
    "club_games_df = spark.read.table(\"club_games_table\")"
   ]
  },
  {
   "cell_type": "code",
   "execution_count": 51,
   "id": "aadb5076-48a5-4f30-ba92-24f4f1091af7",
   "metadata": {},
   "outputs": [
    {
     "data": {
      "text/plain": [
       "DataFrame[summary: string, game_id: string, club_id: string, own_goals: string, own_position: string, own_manager_name: string, opponent_id: string, opponent_goals: string, opponent_position: string, opponent_manager_name: string, hosting: string, is_win: string]"
      ]
     },
     "execution_count": 51,
     "metadata": {},
     "output_type": "execute_result"
    }
   ],
   "source": [
    "club_games_df.describe()"
   ]
  },
  {
   "cell_type": "code",
   "execution_count": 52,
   "id": "795e572f-89b0-48be-a653-a5eef13f39cb",
   "metadata": {},
   "outputs": [
    {
     "data": {
      "text/plain": [
       "148052"
      ]
     },
     "execution_count": 52,
     "metadata": {},
     "output_type": "execute_result"
    }
   ],
   "source": [
    "club_games_df.count()"
   ]
  },
  {
   "cell_type": "markdown",
   "id": "5953b203-6b52-4ddf-98da-46d8ce98786d",
   "metadata": {},
   "source": [
    "### Read competitions_table and analyze the data"
   ]
  },
  {
   "cell_type": "code",
   "execution_count": 53,
   "id": "9379519f-ca0a-4a8d-945e-4a49daaaf010",
   "metadata": {},
   "outputs": [],
   "source": [
    "competitions_df = spark.read.table(\"competitions_table\")"
   ]
  },
  {
   "cell_type": "code",
   "execution_count": 54,
   "id": "00424309-8b2a-40ba-8e37-b5f3f3f67a93",
   "metadata": {},
   "outputs": [
    {
     "data": {
      "text/plain": [
       "DataFrame[summary: string, competition_id: string, competition_code: string, name: string, sub_type: string, type: string, country_id: string, country_name: string, domestic_league_code: string, confederation: string, url: string]"
      ]
     },
     "execution_count": 54,
     "metadata": {},
     "output_type": "execute_result"
    }
   ],
   "source": [
    "competitions_df.describe()"
   ]
  },
  {
   "cell_type": "code",
   "execution_count": 55,
   "id": "95d934f2-3775-443e-9402-b7ecfbfacd4d",
   "metadata": {},
   "outputs": [
    {
     "data": {
      "text/plain": [
       "44"
      ]
     },
     "execution_count": 55,
     "metadata": {},
     "output_type": "execute_result"
    }
   ],
   "source": [
    "competitions_df.count()"
   ]
  },
  {
   "cell_type": "markdown",
   "id": "ec7e225a-db0c-4a62-ba03-7a0b63f2be31",
   "metadata": {},
   "source": [
    "### Read games_table and analyze the data"
   ]
  },
  {
   "cell_type": "code",
   "execution_count": 56,
   "id": "7c0e77a2-450e-4622-8432-f580b5a791af",
   "metadata": {},
   "outputs": [],
   "source": [
    "games_df = spark.read.table(\"games_table\")"
   ]
  },
  {
   "cell_type": "code",
   "execution_count": 57,
   "id": "856badc1-a2c6-435f-84e2-eb4b0a99893e",
   "metadata": {},
   "outputs": [
    {
     "data": {
      "text/plain": [
       "DataFrame[summary: string, game_id: string, competition_id: string, season: string, round: string, home_club_id: string, away_club_id: string, home_club_goals: string, away_club_goals: string, home_club_position: string, away_club_position: string, home_club_manager_name: string, away_club_manager_name: string, stadium: string, attendance: string, referee: string, url: string, home_club_formation: string, away_club_formation: string, home_club_name: string, away_club_name: string, competition_type: string]"
      ]
     },
     "execution_count": 57,
     "metadata": {},
     "output_type": "execute_result"
    }
   ],
   "source": [
    "games_df.describe()"
   ]
  },
  {
   "cell_type": "code",
   "execution_count": 58,
   "id": "0b7eead7-c8d1-42ba-abd0-8817bcdbe5c4",
   "metadata": {},
   "outputs": [
    {
     "data": {
      "text/plain": [
       "74026"
      ]
     },
     "execution_count": 58,
     "metadata": {},
     "output_type": "execute_result"
    }
   ],
   "source": [
    "games_df.count()"
   ]
  },
  {
   "cell_type": "markdown",
   "id": "71e3d100-cec1-4b4b-93de-0015ffe150fd",
   "metadata": {},
   "source": [
    "### Read game_lineups_table and analyze the data"
   ]
  },
  {
   "cell_type": "code",
   "execution_count": 59,
   "id": "8b12798e-53d6-44d1-b351-d66bdd821a9a",
   "metadata": {},
   "outputs": [],
   "source": [
    "game_lineups_df = spark.read.table(\"game_lineups_table\")"
   ]
  },
  {
   "cell_type": "markdown",
   "id": "64f60516-846b-4fd0-80ba-317ec9ac5372",
   "metadata": {},
   "source": [
    "game_lineups_df.describe()"
   ]
  },
  {
   "cell_type": "code",
   "execution_count": 60,
   "id": "9c8ce5c6-5a78-45ba-bb6d-08fb634d1824",
   "metadata": {},
   "outputs": [
    {
     "data": {
      "text/plain": [
       "2285289"
      ]
     },
     "execution_count": 60,
     "metadata": {},
     "output_type": "execute_result"
    }
   ],
   "source": [
    "game_lineups_df.count()"
   ]
  },
  {
   "cell_type": "markdown",
   "id": "49da072d-ce79-4a2b-a3b1-7fd620a6bf6a",
   "metadata": {},
   "source": [
    "### Read transfers_table and analyze the data"
   ]
  },
  {
   "cell_type": "code",
   "execution_count": 61,
   "id": "f4761ba3-7ec6-471f-8f21-d5c469cdb3b0",
   "metadata": {},
   "outputs": [],
   "source": [
    "transfers_df = spark.read.table(\"transfers_table\")"
   ]
  },
  {
   "cell_type": "code",
   "execution_count": 62,
   "id": "e175c2c4-8589-49ac-bc00-91b7cd456ccf",
   "metadata": {},
   "outputs": [
    {
     "data": {
      "text/plain": [
       "DataFrame[summary: string, player_id: string, transfer_season: string, from_club_id: string, to_club_id: string, from_club_name: string, to_club_name: string, transfer_fee: string, market_value_in_eur: string, player_name: string]"
      ]
     },
     "execution_count": 62,
     "metadata": {},
     "output_type": "execute_result"
    }
   ],
   "source": [
    "transfers_df.describe()"
   ]
  },
  {
   "cell_type": "code",
   "execution_count": 63,
   "id": "ef8b5b8b-073d-4ab8-b180-cb5cfdda13cd",
   "metadata": {},
   "outputs": [
    {
     "data": {
      "text/plain": [
       "79646"
      ]
     },
     "execution_count": 63,
     "metadata": {},
     "output_type": "execute_result"
    }
   ],
   "source": [
    "transfers_df.count()"
   ]
  },
  {
   "cell_type": "markdown",
   "id": "b1096b95-b831-442e-9fcd-c86c7ed6cb52",
   "metadata": {},
   "source": [
    "### Read game_events and analyze the data"
   ]
  },
  {
   "cell_type": "code",
   "execution_count": 64,
   "id": "5d86d5f9-2a0b-4a45-a33f-6e26317284cf",
   "metadata": {},
   "outputs": [],
   "source": [
    "game_events_df = spark.read.table(\"game_events_table\")"
   ]
  },
  {
   "cell_type": "code",
   "execution_count": 65,
   "id": "975b7e12-7293-48c2-bb86-2c6e8c335e91",
   "metadata": {},
   "outputs": [
    {
     "data": {
      "text/plain": [
       "DataFrame[summary: string, game_event_id: string, game_id: string, minute: string, type: string, club_id: string, player_id: string, description: string, player_in_id: string, player_assist_id: string]"
      ]
     },
     "execution_count": 65,
     "metadata": {},
     "output_type": "execute_result"
    }
   ],
   "source": [
    "game_events_df.describe()"
   ]
  },
  {
   "cell_type": "code",
   "execution_count": 66,
   "id": "b3fcf564-9d67-4fb9-b0a9-5235e7734d7a",
   "metadata": {},
   "outputs": [
    {
     "data": {
      "text/plain": [
       "1035043"
      ]
     },
     "execution_count": 66,
     "metadata": {},
     "output_type": "execute_result"
    }
   ],
   "source": [
    "game_events_df.count()"
   ]
  },
  {
   "cell_type": "markdown",
   "id": "48ebdaaa-9753-4c15-9916-98c5f7699403",
   "metadata": {},
   "source": [
    "### NARROW TRANSFORMATIONS\n",
    "### 1. Filter / Where"
   ]
  },
  {
   "cell_type": "code",
   "execution_count": 113,
   "id": "2e2c0acf-833b-43d5-b58d-226853574db6",
   "metadata": {},
   "outputs": [
    {
     "name": "stdout",
     "output_type": "stream",
     "text": [
      "== Physical Plan ==\n",
      "* Project (4)\n",
      "+- * Filter (3)\n",
      "   +- * ColumnarToRow (2)\n",
      "      +- Scan parquet spark_catalog.default.players_table (1)\n",
      "\n",
      "\n",
      "(1) Scan parquet spark_catalog.default.players_table\n",
      "Output [3]: [first_name#5383, last_name#5384, country_of_citizenship#5391]\n",
      "Batched: true\n",
      "Location: PreparedDeltaFileIndex [file:/C:/Users/mmoha/linkedin/transformations/spark-warehouse/players_table]\n",
      "PushedFilters: [IsNotNull(country_of_citizenship), EqualTo(country_of_citizenship,France)]\n",
      "ReadSchema: struct<first_name:string,last_name:string,country_of_citizenship:string>\n",
      "\n",
      "(2) ColumnarToRow [codegen id : 1]\n",
      "Input [3]: [first_name#5383, last_name#5384, country_of_citizenship#5391]\n",
      "\n",
      "(3) Filter [codegen id : 1]\n",
      "Input [3]: [first_name#5383, last_name#5384, country_of_citizenship#5391]\n",
      "Condition : (isnotnull(country_of_citizenship#5391) AND (country_of_citizenship#5391 = France))\n",
      "\n",
      "(4) Project [codegen id : 1]\n",
      "Output [2]: [first_name#5383, last_name#5384]\n",
      "Input [3]: [first_name#5383, last_name#5384, country_of_citizenship#5391]\n",
      "\n",
      "\n"
     ]
    }
   ],
   "source": [
    "france_player_df = players_df.filter(col(\"country_of_citizenship\")==\"France\").select(\"first_name\", \"last_name\")\n",
    "france_player_df.explain(\"formatted\")"
   ]
  },
  {
   "cell_type": "markdown",
   "id": "5472c8c4-ee32-41c9-81e3-13f01ad51d1f",
   "metadata": {},
   "source": [
    "### 2. Select / Drop"
   ]
  },
  {
   "cell_type": "code",
   "execution_count": 112,
   "id": "d6899821-99e2-4364-8612-17de51061ee9",
   "metadata": {},
   "outputs": [
    {
     "name": "stdout",
     "output_type": "stream",
     "text": [
      "== Physical Plan ==\n",
      "* Project (3)\n",
      "+- * ColumnarToRow (2)\n",
      "   +- Scan parquet spark_catalog.default.players_table (1)\n",
      "\n",
      "\n",
      "(1) Scan parquet spark_catalog.default.players_table\n",
      "Output [3]: [name#5385, city_of_birth#5390, position#5394]\n",
      "Batched: true\n",
      "Location: PreparedDeltaFileIndex [file:/C:/Users/mmoha/linkedin/transformations/spark-warehouse/players_table]\n",
      "ReadSchema: struct<name:string,city_of_birth:string,position:string>\n",
      "\n",
      "(2) ColumnarToRow [codegen id : 1]\n",
      "Input [3]: [name#5385, city_of_birth#5390, position#5394]\n",
      "\n",
      "(3) Project [codegen id : 1]\n",
      "Output [4]: [name#5385 AS player_name#13285, city_of_birth#5390 AS player_nationality#13286, CASE WHEN (position#5394 = Defender) THEN Unknown ELSE position#5394 END AS player_position#13287, position#5394]\n",
      "Input [3]: [name#5385, city_of_birth#5390, position#5394]\n",
      "\n",
      "\n",
      "== Physical Plan ==\n",
      "* Project (3)\n",
      "+- * ColumnarToRow (2)\n",
      "   +- Scan parquet spark_catalog.default.players_table (1)\n",
      "\n",
      "\n",
      "(1) Scan parquet spark_catalog.default.players_table\n",
      "Output [3]: [name#5385, city_of_birth#5390, position#5394]\n",
      "Batched: true\n",
      "Location: PreparedDeltaFileIndex [file:/C:/Users/mmoha/linkedin/transformations/spark-warehouse/players_table]\n",
      "ReadSchema: struct<name:string,city_of_birth:string,position:string>\n",
      "\n",
      "(2) ColumnarToRow [codegen id : 1]\n",
      "Input [3]: [name#5385, city_of_birth#5390, position#5394]\n",
      "\n",
      "(3) Project [codegen id : 1]\n",
      "Output [3]: [name#5385 AS player_name#13285, city_of_birth#5390 AS player_nationality#13286, CASE WHEN (position#5394 = Defender) THEN Unknown ELSE position#5394 END AS player_position#13287]\n",
      "Input [3]: [name#5385, city_of_birth#5390, position#5394]\n",
      "\n",
      "\n"
     ]
    }
   ],
   "source": [
    "select_df = players_df.select(F.col(\"name\").alias(\"player_name\"),F.col(\"city_of_birth\").alias(\"player_nationality\"),F.when(F.col(\"position\") == \"Defender\", \"Unknown\").otherwise(F.col(\"position\")).alias(\"player_position\"),F.col(\"position\"))\n",
    "\n",
    "drop_df = select_df.drop(F.col(\"position\"))\n",
    "\n",
    "select_df.explain(\"formatted\")\n",
    "drop_df.explain(\"formatted\")"
   ]
  },
  {
   "cell_type": "markdown",
   "id": "d6611c34-d877-47c8-95a4-37b4a6d9bf0d",
   "metadata": {},
   "source": [
    "### WIDE TRANSFORMATIONS\n",
    "### 1. GroupBy / Aggregations"
   ]
  },
  {
   "cell_type": "code",
   "execution_count": 102,
   "id": "a46ef5e5-404b-489a-aad3-fba3600dd404",
   "metadata": {},
   "outputs": [
    {
     "name": "stdout",
     "output_type": "stream",
     "text": [
      "== Physical Plan ==\n",
      "AdaptiveSparkPlan (5)\n",
      "+- HashAggregate (4)\n",
      "   +- Exchange (3)\n",
      "      +- HashAggregate (2)\n",
      "         +- Scan parquet spark_catalog.default.appearances_table (1)\n",
      "\n",
      "\n",
      "(1) Scan parquet spark_catalog.default.appearances_table\n",
      "Output [7]: [appearance_id#1797, player_club_id#1800, yellow_cards#1805, red_cards#1806, goals#1807, assists#1808, minutes_played#1809]\n",
      "Batched: true\n",
      "Location: PreparedDeltaFileIndex [file:/C:/Users/mmoha/linkedin/transformations/spark-warehouse/appearances_table]\n",
      "ReadSchema: struct<appearance_id:string,player_club_id:int,yellow_cards:int,red_cards:int,goals:int,assists:int,minutes_played:int>\n",
      "\n",
      "(2) HashAggregate\n",
      "Input [7]: [appearance_id#1797, player_club_id#1800, yellow_cards#1805, red_cards#1806, goals#1807, assists#1808, minutes_played#1809]\n",
      "Keys [1]: [player_club_id#1800]\n",
      "Functions [8]: [partial_sum(goals#1807), partial_sum(assists#1808), partial_avg(minutes_played#1809), partial_count(appearance_id#1797), partial_max(yellow_cards#1805), partial_min(red_cards#1806), partial_stddev(cast(goals#1807 as double)), partial_variance(cast(assists#1808 as double))]\n",
      "Aggregate Attributes [13]: [sum#11942L, sum#11943L, sum#11944, count#11945L, count#11946L, max#11947, min#11948, n#11842, avg#11843, m2#11844, n#11850, avg#11851, m2#11852]\n",
      "Results [14]: [player_club_id#1800, sum#11949L, sum#11950L, sum#11951, count#11952L, count#11953L, max#11954, min#11955, n#11847, avg#11848, m2#11849, n#11855, avg#11856, m2#11857]\n",
      "\n",
      "(3) Exchange\n",
      "Input [14]: [player_club_id#1800, sum#11949L, sum#11950L, sum#11951, count#11952L, count#11953L, max#11954, min#11955, n#11847, avg#11848, m2#11849, n#11855, avg#11856, m2#11857]\n",
      "Arguments: hashpartitioning(player_club_id#1800, 200), ENSURE_REQUIREMENTS, [plan_id=2160]\n",
      "\n",
      "(4) HashAggregate\n",
      "Input [14]: [player_club_id#1800, sum#11949L, sum#11950L, sum#11951, count#11952L, count#11953L, max#11954, min#11955, n#11847, avg#11848, m2#11849, n#11855, avg#11856, m2#11857]\n",
      "Keys [1]: [player_club_id#1800]\n",
      "Functions [8]: [sum(goals#1807), sum(assists#1808), avg(minutes_played#1809), count(appearance_id#1797), max(yellow_cards#1805), min(red_cards#1806), stddev(cast(goals#1807 as double)), variance(cast(assists#1808 as double))]\n",
      "Aggregate Attributes [8]: [sum(goals#1807)#11802L, sum(assists#1808)#11803L, avg(minutes_played#1809)#11804, count(appearance_id#1797)#11805L, max(yellow_cards#1805)#11806, min(red_cards#1806)#11807, stddev(cast(goals#1807 as double))#11816, variance(cast(assists#1808 as double))#11825]\n",
      "Results [9]: [player_club_id#1800, cast(sum(goals#1807)#11802L as int) AS total_goals#11781, cast(sum(assists#1808)#11803L as int) AS total_assists#11782, cast(avg(minutes_played#1809)#11804 as int) AS avg_minutes#11783, cast(count(appearance_id#1797)#11805L as int) AS total_appearances#11784, max(yellow_cards#1805)#11806 AS max_yellow_cards#11785, min(red_cards#1806)#11807 AS min_red_cards#11786, cast(stddev(cast(goals#1807 as double))#11816 as int) AS goals_stddev#11787, cast(variance(cast(assists#1808 as double))#11825 as int) AS assists_variance#11788]\n",
      "\n",
      "(5) AdaptiveSparkPlan\n",
      "Output [9]: [player_club_id#1800, total_goals#11781, total_assists#11782, avg_minutes#11783, total_appearances#11784, max_yellow_cards#11785, min_red_cards#11786, goals_stddev#11787, assists_variance#11788]\n",
      "Arguments: isFinalPlan=false\n",
      "\n",
      "\n"
     ]
    }
   ],
   "source": [
    "club_stats = appearances_db.groupBy(\"player_club_id\").agg(\n",
    "    F.sum(F.col(\"goals\")).cast(IntegerType()).alias(\"total_goals\"),\n",
    "    F.sum(F.col(\"assists\")).cast(IntegerType()).alias(\"total_assists\"),\n",
    "    F.avg(F.col(\"minutes_played\")).cast(IntegerType()).alias(\"avg_minutes\"),\n",
    "    F.count(F.col(\"appearance_id\")).cast(IntegerType()).alias(\"total_appearances\"),\n",
    "    F.max(F.col(\"yellow_cards\")).cast(IntegerType()).alias(\"max_yellow_cards\"),\n",
    "    F.min(F.col(\"red_cards\")).cast(IntegerType()).alias(\"min_red_cards\"),\n",
    "    F.stddev(F.col(\"goals\")).cast(IntegerType()).alias(\"goals_stddev\"),\n",
    "    F.variance(F.col(\"assists\")).cast(IntegerType()).alias(\"assists_variance\")\n",
    ")\n",
    "\n",
    "club_stats.explain(\"formatted\")"
   ]
  },
  {
   "cell_type": "markdown",
   "id": "134c0e86-a9bc-4e21-a765-8c9584995b51",
   "metadata": {},
   "source": [
    "### 2. Join Operations"
   ]
  },
  {
   "cell_type": "code",
   "execution_count": 111,
   "id": "3c49b72c-b3f4-4e3f-8197-0cfd0d39a269",
   "metadata": {},
   "outputs": [
    {
     "name": "stdout",
     "output_type": "stream",
     "text": [
      "== Physical Plan ==\n",
      "AdaptiveSparkPlan (7)\n",
      "+- BroadcastHashJoin Inner BuildLeft (6)\n",
      "   :- BroadcastExchange (3)\n",
      "   :  +- Filter (2)\n",
      "   :     +- Scan parquet spark_catalog.default.players_table (1)\n",
      "   +- Filter (5)\n",
      "      +- Scan parquet spark_catalog.default.appearances_table (4)\n",
      "\n",
      "\n",
      "(1) Scan parquet spark_catalog.default.players_table\n",
      "Output [23]: [player_id#5382, first_name#5383, last_name#5384, name#5385, last_season#5386, current_club_id#5387, player_code#5388, country_of_birth#5389, city_of_birth#5390, country_of_citizenship#5391, date_of_birth#5392, sub_position#5393, position#5394, foot#5395, height_in_cm#5396, contract_expiration_date#5397, agent_name#5398, image_url#5399, url#5400, current_club_domestic_competition_id#5401, current_club_name#5402, market_value_in_eur#5403, highest_market_value_in_eur#5404]\n",
      "Batched: true\n",
      "Location: PreparedDeltaFileIndex [file:/C:/Users/mmoha/linkedin/transformations/spark-warehouse/players_table]\n",
      "PushedFilters: [IsNotNull(player_id)]\n",
      "ReadSchema: struct<player_id:int,first_name:string,last_name:string,name:string,last_season:int,current_club_id:int,player_code:string,country_of_birth:string,city_of_birth:string,country_of_citizenship:string,date_of_birth:timestamp,sub_position:string,position:string,foot:string,height_in_cm:int,contract_expiration_date:timestamp,agent_name:string,image_url:string,url:string,current_club_domestic_competition_id:string,current_club_name:string,market_value_in_eur:int,highest_market_value_in_eur:int>\n",
      "\n",
      "(2) Filter\n",
      "Input [23]: [player_id#5382, first_name#5383, last_name#5384, name#5385, last_season#5386, current_club_id#5387, player_code#5388, country_of_birth#5389, city_of_birth#5390, country_of_citizenship#5391, date_of_birth#5392, sub_position#5393, position#5394, foot#5395, height_in_cm#5396, contract_expiration_date#5397, agent_name#5398, image_url#5399, url#5400, current_club_domestic_competition_id#5401, current_club_name#5402, market_value_in_eur#5403, highest_market_value_in_eur#5404]\n",
      "Condition : isnotnull(player_id#5382)\n",
      "\n",
      "(3) BroadcastExchange\n",
      "Input [23]: [player_id#5382, first_name#5383, last_name#5384, name#5385, last_season#5386, current_club_id#5387, player_code#5388, country_of_birth#5389, city_of_birth#5390, country_of_citizenship#5391, date_of_birth#5392, sub_position#5393, position#5394, foot#5395, height_in_cm#5396, contract_expiration_date#5397, agent_name#5398, image_url#5399, url#5400, current_club_domestic_competition_id#5401, current_club_name#5402, market_value_in_eur#5403, highest_market_value_in_eur#5404]\n",
      "Arguments: HashedRelationBroadcastMode(List(cast(input[0, int, false] as bigint)),false), [plan_id=2605]\n",
      "\n",
      "(4) Scan parquet spark_catalog.default.appearances_table\n",
      "Output [13]: [appearance_id#6644, game_id#6645, player_id#6646, player_club_id#6647, player_current_club_id#6648, date#6649, player_name#6650, competition_id#6651, yellow_cards#6652, red_cards#6653, goals#6654, assists#6655, minutes_played#6656]\n",
      "Batched: true\n",
      "Location: PreparedDeltaFileIndex [file:/C:/Users/mmoha/linkedin/transformations/spark-warehouse/appearances_table]\n",
      "PushedFilters: [IsNotNull(player_id)]\n",
      "ReadSchema: struct<appearance_id:string,game_id:int,player_id:int,player_club_id:int,player_current_club_id:int,date:date,player_name:string,competition_id:string,yellow_cards:int,red_cards:int,goals:int,assists:int,minutes_played:int>\n",
      "\n",
      "(5) Filter\n",
      "Input [13]: [appearance_id#6644, game_id#6645, player_id#6646, player_club_id#6647, player_current_club_id#6648, date#6649, player_name#6650, competition_id#6651, yellow_cards#6652, red_cards#6653, goals#6654, assists#6655, minutes_played#6656]\n",
      "Condition : isnotnull(player_id#6646)\n",
      "\n",
      "(6) BroadcastHashJoin\n",
      "Left keys [1]: [player_id#5382]\n",
      "Right keys [1]: [player_id#6646]\n",
      "Join type: Inner\n",
      "Join condition: None\n",
      "\n",
      "(7) AdaptiveSparkPlan\n",
      "Output [36]: [player_id#5382, first_name#5383, last_name#5384, name#5385, last_season#5386, current_club_id#5387, player_code#5388, country_of_birth#5389, city_of_birth#5390, country_of_citizenship#5391, date_of_birth#5392, sub_position#5393, position#5394, foot#5395, height_in_cm#5396, contract_expiration_date#5397, agent_name#5398, image_url#5399, url#5400, current_club_domestic_competition_id#5401, current_club_name#5402, market_value_in_eur#5403, highest_market_value_in_eur#5404, appearance_id#6644, game_id#6645, player_id#6646, player_club_id#6647, player_current_club_id#6648, date#6649, player_name#6650, competition_id#6651, yellow_cards#6652, red_cards#6653, goals#6654, assists#6655, minutes_played#6656]\n",
      "Arguments: isFinalPlan=false\n",
      "\n",
      "\n",
      "== Physical Plan ==\n",
      "AdaptiveSparkPlan (12)\n",
      "+- Project (11)\n",
      "   +- SortMergeJoin LeftOuter (10)\n",
      "      :- Sort (3)\n",
      "      :  +- Exchange (2)\n",
      "      :     +- Scan parquet spark_catalog.default.players_table (1)\n",
      "      +- Sort (9)\n",
      "         +- HashAggregate (8)\n",
      "            +- Exchange (7)\n",
      "               +- HashAggregate (6)\n",
      "                  +- Filter (5)\n",
      "                     +- Scan parquet spark_catalog.default.appearances_table (4)\n",
      "\n",
      "\n",
      "(1) Scan parquet spark_catalog.default.players_table\n",
      "Output [23]: [player_id#5382, first_name#5383, last_name#5384, name#5385, last_season#5386, current_club_id#5387, player_code#5388, country_of_birth#5389, city_of_birth#5390, country_of_citizenship#5391, date_of_birth#5392, sub_position#5393, position#5394, foot#5395, height_in_cm#5396, contract_expiration_date#5397, agent_name#5398, image_url#5399, url#5400, current_club_domestic_competition_id#5401, current_club_name#5402, market_value_in_eur#5403, highest_market_value_in_eur#5404]\n",
      "Batched: true\n",
      "Location: PreparedDeltaFileIndex [file:/C:/Users/mmoha/linkedin/transformations/spark-warehouse/players_table]\n",
      "ReadSchema: struct<player_id:int,first_name:string,last_name:string,name:string,last_season:int,current_club_id:int,player_code:string,country_of_birth:string,city_of_birth:string,country_of_citizenship:string,date_of_birth:timestamp,sub_position:string,position:string,foot:string,height_in_cm:int,contract_expiration_date:timestamp,agent_name:string,image_url:string,url:string,current_club_domestic_competition_id:string,current_club_name:string,market_value_in_eur:int,highest_market_value_in_eur:int>\n",
      "\n",
      "(2) Exchange\n",
      "Input [23]: [player_id#5382, first_name#5383, last_name#5384, name#5385, last_season#5386, current_club_id#5387, player_code#5388, country_of_birth#5389, city_of_birth#5390, country_of_citizenship#5391, date_of_birth#5392, sub_position#5393, position#5394, foot#5395, height_in_cm#5396, contract_expiration_date#5397, agent_name#5398, image_url#5399, url#5400, current_club_domestic_competition_id#5401, current_club_name#5402, market_value_in_eur#5403, highest_market_value_in_eur#5404]\n",
      "Arguments: hashpartitioning(player_id#5382, 200), ENSURE_REQUIREMENTS, [plan_id=2666]\n",
      "\n",
      "(3) Sort\n",
      "Input [23]: [player_id#5382, first_name#5383, last_name#5384, name#5385, last_season#5386, current_club_id#5387, player_code#5388, country_of_birth#5389, city_of_birth#5390, country_of_citizenship#5391, date_of_birth#5392, sub_position#5393, position#5394, foot#5395, height_in_cm#5396, contract_expiration_date#5397, agent_name#5398, image_url#5399, url#5400, current_club_domestic_competition_id#5401, current_club_name#5402, market_value_in_eur#5403, highest_market_value_in_eur#5404]\n",
      "Arguments: [player_id#5382 ASC NULLS FIRST], false, 0\n",
      "\n",
      "(4) Scan parquet spark_catalog.default.appearances_table\n",
      "Output [3]: [player_id#6646, goals#6654, assists#6655]\n",
      "Batched: true\n",
      "Location: PreparedDeltaFileIndex [file:/C:/Users/mmoha/linkedin/transformations/spark-warehouse/appearances_table]\n",
      "PushedFilters: [IsNotNull(player_id)]\n",
      "ReadSchema: struct<player_id:int,goals:int,assists:int>\n",
      "\n",
      "(5) Filter\n",
      "Input [3]: [player_id#6646, goals#6654, assists#6655]\n",
      "Condition : isnotnull(player_id#6646)\n",
      "\n",
      "(6) HashAggregate\n",
      "Input [3]: [player_id#6646, goals#6654, assists#6655]\n",
      "Keys [1]: [player_id#6646]\n",
      "Functions [2]: [partial_sum(goals#6654), partial_sum(assists#6655)]\n",
      "Aggregate Attributes [2]: [sum#13281L, sum#13282L]\n",
      "Results [3]: [player_id#6646, sum#13283L, sum#13284L]\n",
      "\n",
      "(7) Exchange\n",
      "Input [3]: [player_id#6646, sum#13283L, sum#13284L]\n",
      "Arguments: hashpartitioning(player_id#6646, 200), ENSURE_REQUIREMENTS, [plan_id=2662]\n",
      "\n",
      "(8) HashAggregate\n",
      "Input [3]: [player_id#6646, sum#13283L, sum#13284L]\n",
      "Keys [1]: [player_id#6646]\n",
      "Functions [2]: [sum(goals#6654), sum(assists#6655)]\n",
      "Aggregate Attributes [2]: [sum(goals#6654)#13145L, sum(assists#6655)#13146L]\n",
      "Results [3]: [player_id#6646, sum(goals#6654)#13145L AS career_goals#13130L, sum(assists#6655)#13146L AS career_assists#13131L]\n",
      "\n",
      "(9) Sort\n",
      "Input [3]: [player_id#6646, career_goals#13130L, career_assists#13131L]\n",
      "Arguments: [player_id#6646 ASC NULLS FIRST], false, 0\n",
      "\n",
      "(10) SortMergeJoin\n",
      "Left keys [1]: [player_id#5382]\n",
      "Right keys [1]: [player_id#6646]\n",
      "Join type: LeftOuter\n",
      "Join condition: None\n",
      "\n",
      "(11) Project\n",
      "Output [25]: [player_id#5382, first_name#5383, last_name#5384, name#5385, last_season#5386, current_club_id#5387, player_code#5388, country_of_birth#5389, city_of_birth#5390, country_of_citizenship#5391, date_of_birth#5392, sub_position#5393, position#5394, foot#5395, height_in_cm#5396, contract_expiration_date#5397, agent_name#5398, image_url#5399, url#5400, current_club_domestic_competition_id#5401, current_club_name#5402, market_value_in_eur#5403, highest_market_value_in_eur#5404, career_goals#13130L, career_assists#13131L]\n",
      "Input [26]: [player_id#5382, first_name#5383, last_name#5384, name#5385, last_season#5386, current_club_id#5387, player_code#5388, country_of_birth#5389, city_of_birth#5390, country_of_citizenship#5391, date_of_birth#5392, sub_position#5393, position#5394, foot#5395, height_in_cm#5396, contract_expiration_date#5397, agent_name#5398, image_url#5399, url#5400, current_club_domestic_competition_id#5401, current_club_name#5402, market_value_in_eur#5403, highest_market_value_in_eur#5404, player_id#6646, career_goals#13130L, career_assists#13131L]\n",
      "\n",
      "(12) AdaptiveSparkPlan\n",
      "Output [25]: [player_id#5382, first_name#5383, last_name#5384, name#5385, last_season#5386, current_club_id#5387, player_code#5388, country_of_birth#5389, city_of_birth#5390, country_of_citizenship#5391, date_of_birth#5392, sub_position#5393, position#5394, foot#5395, height_in_cm#5396, contract_expiration_date#5397, agent_name#5398, image_url#5399, url#5400, current_club_domestic_competition_id#5401, current_club_name#5402, market_value_in_eur#5403, highest_market_value_in_eur#5404, career_goals#13130L, career_assists#13131L]\n",
      "Arguments: isFinalPlan=false\n",
      "\n",
      "\n",
      "== Physical Plan ==\n",
      "AdaptiveSparkPlan (7)\n",
      "+- BroadcastHashJoin Inner BuildLeft (6)\n",
      "   :- BroadcastExchange (3)\n",
      "   :  +- Filter (2)\n",
      "   :     +- Scan parquet spark_catalog.default.players_table (1)\n",
      "   +- Filter (5)\n",
      "      +- Scan parquet spark_catalog.default.appearances_table (4)\n",
      "\n",
      "\n",
      "(1) Scan parquet spark_catalog.default.players_table\n",
      "Output [23]: [player_id#5382, first_name#5383, last_name#5384, name#5385, last_season#5386, current_club_id#5387, player_code#5388, country_of_birth#5389, city_of_birth#5390, country_of_citizenship#5391, date_of_birth#5392, sub_position#5393, position#5394, foot#5395, height_in_cm#5396, contract_expiration_date#5397, agent_name#5398, image_url#5399, url#5400, current_club_domestic_competition_id#5401, current_club_name#5402, market_value_in_eur#5403, highest_market_value_in_eur#5404]\n",
      "Batched: true\n",
      "Location: PreparedDeltaFileIndex [file:/C:/Users/mmoha/linkedin/transformations/spark-warehouse/players_table]\n",
      "PushedFilters: [IsNotNull(player_id)]\n",
      "ReadSchema: struct<player_id:int,first_name:string,last_name:string,name:string,last_season:int,current_club_id:int,player_code:string,country_of_birth:string,city_of_birth:string,country_of_citizenship:string,date_of_birth:timestamp,sub_position:string,position:string,foot:string,height_in_cm:int,contract_expiration_date:timestamp,agent_name:string,image_url:string,url:string,current_club_domestic_competition_id:string,current_club_name:string,market_value_in_eur:int,highest_market_value_in_eur:int>\n",
      "\n",
      "(2) Filter\n",
      "Input [23]: [player_id#5382, first_name#5383, last_name#5384, name#5385, last_season#5386, current_club_id#5387, player_code#5388, country_of_birth#5389, city_of_birth#5390, country_of_citizenship#5391, date_of_birth#5392, sub_position#5393, position#5394, foot#5395, height_in_cm#5396, contract_expiration_date#5397, agent_name#5398, image_url#5399, url#5400, current_club_domestic_competition_id#5401, current_club_name#5402, market_value_in_eur#5403, highest_market_value_in_eur#5404]\n",
      "Condition : isnotnull(player_id#5382)\n",
      "\n",
      "(3) BroadcastExchange\n",
      "Input [23]: [player_id#5382, first_name#5383, last_name#5384, name#5385, last_season#5386, current_club_id#5387, player_code#5388, country_of_birth#5389, city_of_birth#5390, country_of_citizenship#5391, date_of_birth#5392, sub_position#5393, position#5394, foot#5395, height_in_cm#5396, contract_expiration_date#5397, agent_name#5398, image_url#5399, url#5400, current_club_domestic_competition_id#5401, current_club_name#5402, market_value_in_eur#5403, highest_market_value_in_eur#5404]\n",
      "Arguments: HashedRelationBroadcastMode(List(cast(input[0, int, false] as bigint)),false), [plan_id=2605]\n",
      "\n",
      "(4) Scan parquet spark_catalog.default.appearances_table\n",
      "Output [13]: [appearance_id#6644, game_id#6645, player_id#6646, player_club_id#6647, player_current_club_id#6648, date#6649, player_name#6650, competition_id#6651, yellow_cards#6652, red_cards#6653, goals#6654, assists#6655, minutes_played#6656]\n",
      "Batched: true\n",
      "Location: PreparedDeltaFileIndex [file:/C:/Users/mmoha/linkedin/transformations/spark-warehouse/appearances_table]\n",
      "PushedFilters: [IsNotNull(player_id)]\n",
      "ReadSchema: struct<appearance_id:string,game_id:int,player_id:int,player_club_id:int,player_current_club_id:int,date:date,player_name:string,competition_id:string,yellow_cards:int,red_cards:int,goals:int,assists:int,minutes_played:int>\n",
      "\n",
      "(5) Filter\n",
      "Input [13]: [appearance_id#6644, game_id#6645, player_id#6646, player_club_id#6647, player_current_club_id#6648, date#6649, player_name#6650, competition_id#6651, yellow_cards#6652, red_cards#6653, goals#6654, assists#6655, minutes_played#6656]\n",
      "Condition : isnotnull(player_id#6646)\n",
      "\n",
      "(6) BroadcastHashJoin\n",
      "Left keys [1]: [player_id#5382]\n",
      "Right keys [1]: [player_id#6646]\n",
      "Join type: Inner\n",
      "Join condition: None\n",
      "\n",
      "(7) AdaptiveSparkPlan\n",
      "Output [36]: [player_id#5382, first_name#5383, last_name#5384, name#5385, last_season#5386, current_club_id#5387, player_code#5388, country_of_birth#5389, city_of_birth#5390, country_of_citizenship#5391, date_of_birth#5392, sub_position#5393, position#5394, foot#5395, height_in_cm#5396, contract_expiration_date#5397, agent_name#5398, image_url#5399, url#5400, current_club_domestic_competition_id#5401, current_club_name#5402, market_value_in_eur#5403, highest_market_value_in_eur#5404, appearance_id#6644, game_id#6645, player_id#6646, player_club_id#6647, player_current_club_id#6648, date#6649, player_name#6650, competition_id#6651, yellow_cards#6652, red_cards#6653, goals#6654, assists#6655, minutes_played#6656]\n",
      "Arguments: isFinalPlan=false\n",
      "\n",
      "\n"
     ]
    }
   ],
   "source": [
    "# Inner Join\n",
    "player_appearances = players_df.join(appearances_df, players_df.player_id == appearances_df.player_id, \"inner\")\n",
    "player_appearances.explain(\"formatted\")\n",
    "\n",
    "# Left Join\n",
    "players_with_stats = players_df.join(\n",
    "    appearances_df.groupBy(\"player_id\").agg(\n",
    "        F.sum(F.col(\"goals\")).alias(\"career_goals\"),\n",
    "        F.sum(F.col(\"assists\")).alias(\"career_assists\")\n",
    "    ),\n",
    "    \"player_id\",\n",
    "    \"left\"\n",
    ")\n",
    "players_with_stats.explain(\"formatted\")\n",
    "\n",
    "# Broadcast Join (hint for small tables)\n",
    "player_club_info = players_df.join(\n",
    "    F.broadcast(clubs_df),\n",
    "    players_df.current_club_id == clubs_df.club_id,\n",
    "    \"left\"\n",
    ")\n",
    "\n",
    "player_appearances.explain(\"formatted\")"
   ]
  },
  {
   "cell_type": "code",
   "execution_count": null,
   "id": "ea940078-69c7-4aaf-9373-15984b9a3236",
   "metadata": {},
   "outputs": [],
   "source": []
  }
 ],
 "metadata": {
  "kernelspec": {
   "display_name": "Python 3 (ipykernel)",
   "language": "python",
   "name": "python3"
  },
  "language_info": {
   "codemirror_mode": {
    "name": "ipython",
    "version": 3
   },
   "file_extension": ".py",
   "mimetype": "text/x-python",
   "name": "python",
   "nbconvert_exporter": "python",
   "pygments_lexer": "ipython3",
   "version": "3.12.5"
  }
 },
 "nbformat": 4,
 "nbformat_minor": 5
}
